{
 "cells": [
  {
   "cell_type": "markdown",
   "metadata": {},
   "source": [
    "### Importing dependencies"
   ]
  },
  {
   "cell_type": "code",
   "execution_count": 54,
   "metadata": {},
   "outputs": [],
   "source": [
    "import numpy as np\n",
    "import matplotlib.pyplot as plt\n",
    "\n",
    "# Dataset Dependencies\n",
    "from tensorflow.keras.datasets import mnist\n",
    "from sklearn.utils import shuffle\n",
    "\n",
    "import time\n",
    "import os\n",
    "\n"
   ]
  },
  {
   "cell_type": "markdown",
   "metadata": {},
   "source": [
    "### Loading Trainset and Testset"
   ]
  },
  {
   "cell_type": "code",
   "execution_count": 55,
   "metadata": {},
   "outputs": [],
   "source": [
    "(x_train, y_train), (x_test, y_test) = mnist.load_data()\n",
    "\n",
    "# Normalize the pixel values to the range [0, 1]\n",
    "x_train, x_test = x_train / 255.0, x_test / 255.0"
   ]
  },
  {
   "cell_type": "markdown",
   "metadata": {},
   "source": [
    "# Neural network structure"
   ]
  },
  {
   "cell_type": "markdown",
   "metadata": {},
   "source": [
    "### Auxiliar functions"
   ]
  },
  {
   "cell_type": "markdown",
   "metadata": {},
   "source": [
    "Activation functions and its derivatives"
   ]
  },
  {
   "cell_type": "code",
   "execution_count": 56,
   "metadata": {},
   "outputs": [],
   "source": [
    "def sigmoid(z):\n",
    "    return 1/(1+np.exp(-z))\n",
    "\n",
    "def deriv_sigmoid(z):\n",
    "    return z*(1-z)\n",
    "\n",
    "\n",
    "\n",
    "def leakyrelu(z, alpha=0.0):\n",
    "    return np.maximum(alpha*z, z)\n",
    "\n",
    "def deriv_leakyrelu(z, alpha=0.0):\n",
    "   # Create a mask for elements greater than 0\n",
    "    greater_than_zero = z > 0\n",
    "    # Create a mask for elements less than or equal to 0\n",
    "    less_than_zero = ~greater_than_zero\n",
    "    # Apply derivative conditions for elements greater than 0 and less than or equal to 0\n",
    "    deriv = np.ones_like(z, dtype = float)\n",
    "    deriv[less_than_zero] = alpha\n",
    "    return deriv\n",
    "\n",
    "\n",
    "\n",
    "def softmax(z):\n",
    "    e_x = np.exp(z - np.max(z))\n",
    "    return e_x / e_x.sum()\n",
    "\n",
    "def deriv_softmax(z):\n",
    "    # Compute softmax function\n",
    "    softmax_z = np.exp(z) / np.sum(np.exp(z), axis=0)\n",
    "    # Compute Jacobian matrix for softmax\n",
    "    softmax_grad = np.diag(softmax_z) - np.outer(softmax_z, softmax_z)\n",
    "    return softmax_grad"
   ]
  },
  {
   "cell_type": "markdown",
   "metadata": {},
   "source": [
    "Loss function"
   ]
  },
  {
   "cell_type": "code",
   "execution_count": 57,
   "metadata": {},
   "outputs": [],
   "source": [
    "def loss_func(label, pred):\n",
    "    return 0.5*(label - pred)**2"
   ]
  },
  {
   "cell_type": "markdown",
   "metadata": {},
   "source": [
    "Function to save a report of the training parameters and results"
   ]
  },
  {
   "cell_type": "code",
   "execution_count": 116,
   "metadata": {},
   "outputs": [],
   "source": [
    "def save_report(flag, model,epochs, batch_size, lr, activation_func, optimizer, training_report, acc):\n",
    "    if flag == True:\n",
    "        folder_path = './training_reports' \n",
    "\n",
    "        file_names = os.listdir(folder_path) # Get a list of all files in the folder\n",
    "        idxs = [int(file[-5]) for file in file_names]\n",
    "        current_idx = max(idxs)+1\n",
    "\n",
    "        with open(f'training_reports/training_report_{current_idx}.txt', 'w') as file:\n",
    "            current_datetime = datetime.datetime.now()\n",
    "            strings_to_write = [\n",
    "                f\"Training Date and Time: {current_datetime}\",\n",
    "                f\" \",\n",
    "                f\"Net structure: {model.params}\",\n",
    "                f\" \",\n",
    "                f\"Epoch number: {epochs}\",\n",
    "                f\"Batch size: {batch_size}\",\n",
    "                f\"Learning rate: {lr}\",\n",
    "                f\" \",\n",
    "                f\"Activation function: {activation_func}\",\n",
    "                f\"Optimizer: {optimizer}\",\n",
    "                f\" \",\n",
    "                f\"Accuracy: {acc:.2f}%\",\n",
    "                f\" \",\n",
    "                f\"Epoch Info: \",\n",
    "            ]\n",
    "\n",
    "            # Adding a newline after each string\n",
    "            [file.write(string + '\\n') for string in strings_to_write] \n",
    "            [file.write(i + '\\n') for i in training_report]\n",
    "        print(f\"The repor for the current training has been saved under: training_report_{current_idx}.txt\") "
   ]
  },
  {
   "cell_type": "markdown",
   "metadata": {},
   "source": [
    "### Neural network class"
   ]
  },
  {
   "cell_type": "code",
   "execution_count": 80,
   "metadata": {},
   "outputs": [],
   "source": [
    "class NN():\n",
    "    def __init__(self, params):\n",
    "        self.params = params # format: [input_size, a1_size, a1_size, ...  output_size]\n",
    "\n",
    "        # For all the lists, each element is a matrix of values for 1 layer\n",
    "\n",
    "        # This list holds the activtions for just 1 pass (the forward calculates and resets it everytime it executes)\n",
    "        self.activations_list = []  # [input_vector , a1_vector, a2_vector, ... output_vector]\n",
    "        self.z_list = []  # s list to calculate the derivative of the relu and leaky rely\n",
    "        # This lists holds the weiths and biases until they are updated by the optimization() method\n",
    "        self.weight_list = [np.random.normal(size=[params[i], params[i+1]], loc = 0.0, scale = 1.0) for i in range(len(params)-1)]\n",
    "        self.bias_list = [np.random.normal(size=[params[i+1],], loc = 0.0, scale = 1.0) for i in range(len(params)-1)]\n",
    "        # This list hold the cumulated gradients of the weights and biases for all layers for 1 batch\n",
    "        self.dLdw_list_acumulated = [0]*(len(params)-1)\n",
    "        self.dLdb_list_acumulated = [0]*(len(params)-1)\n",
    "        # This lists hold the cumulated momentums factor (for Adam opttimizer) for all layers for 1 batch \n",
    "        self.m_b = [0]*(len(params)-1)\n",
    "        self.m_w = [0]*(len(params)-1)\n",
    "        # This lists hold the cumulated RMSProp factors (for adam optimizer) for all layers  for 1 batch\n",
    "        self.r_w = [0]*(len(params)-1)\n",
    "        self.r_b = [0]*(len(params)-1)\n",
    "\n",
    "        print(\" ----- Neural net layout -----\")\n",
    "        print(f\"    Input with {params[0]} valeus\")\n",
    "        for i in range(len(params)-2):\n",
    "            print(f\"    Hidden layer {i+1} with {params[i+1]} nodes\")\n",
    "        print(f\"    Output with {params[-1]} nodes\")\n",
    "        print(\" -----------------------------\")\n",
    "\n",
    "    def reset_cumulated_gradients(self):\n",
    "        self.dLdw_list_acumulated =  [0]*(len(self.params)-1) # initial value\n",
    "        self.dLdb_list_acumulated =  [0]*(len(self.params)-1) # initial value\n",
    "\n",
    "    def reset_cumulated_adam_factors(self):\n",
    "        self.m_b = [0]*(len(self.params)-1) \n",
    "        self.r_w = [0]*(len(self.params)-1) \n",
    "        self.r_b = [0]*(len(self.params)-1) \n",
    "        self.m_w = [0]*(len(self.params)-1) \n",
    "\n",
    "    def forward(self, input, activation_func):\n",
    "        # This function runs for every sample and the loop iterates over every layer to cover the whlole network\n",
    "        self.z_list = [0]\n",
    "        self.activations_list = [input] # Creates a list for the activation with the input vector as it is the a0 layers\n",
    "        for i in range(len(self.params)-1): # Adds the other layers (n-1)layers because the input has been added already\n",
    "            zi = np.dot(np.transpose(self.weight_list[i]), self.activations_list[i]) + self.bias_list[i]\n",
    "            if i == (len(self.params)-2): # if last layer\n",
    "                ai = softmax(zi)\n",
    "            else:\n",
    "                if activation_func == \"leakyrelu\":\n",
    "                    ai = leakyrelu(zi)\n",
    "                if activation_func == \"sigmoid\":\n",
    "                    ai = sigmoid(zi)\n",
    "\n",
    "            self.z_list.append(zi)\n",
    "            self.activations_list.append(ai)\n",
    "        return ai\n",
    "\n",
    "    def backpropagation(self, label, batch_size, activation_func, optimizer):\n",
    "        # This function runs for every sample and the loop iterates over every layer to cover the whlole network\n",
    "\n",
    "        # Each elemnt of this list is a matrix of weight for one layer OBS: the values are gonna be added from the last to the first item\n",
    "        # The list represents the weights of all layers for the current sample (1 sample)\n",
    "        dLdw_list = []\n",
    "        dLdb_list = []\n",
    "\n",
    "        for i in range(len(self.params)-1): # iters over all hidden layers and the output    ->   len(params)-1 \n",
    "            if i == 0: # If the first calculation (output layer)\n",
    "                output = self.activations_list[::-1][i]\n",
    "                dLdout = (output - label)\n",
    "\n",
    "                if activation_func == \"leakyrelu\": # if using leaky relu, the activation of the output layer has to be a softmax\n",
    "                    dadz = deriv_softmax(self.z_list[::-1][i]) # derivative of the softmax\n",
    "                    cumulative_partials = np.dot(dadz, dLdout) # cumulative for softmax (dot product)\n",
    "                if activation_func == \"sigmoid\":\n",
    "                    dadz = deriv_sigmoid(self.activations_list[::-1][i]) # derivative of the sigmoid\n",
    "                    cumulative_partials = dadz* dLdout # cumulative for sigmoid\n",
    "\n",
    "            else: # For the derivatives of all other layers (exept the last one)\n",
    "                dzda = self.weight_list[::-1][i-1]\n",
    "\n",
    "                if activation_func == \"leakyrelu\":\n",
    "                    dadz = deriv_leakyrelu(self.z_list[::-1][i]) \n",
    "                if activation_func == \"sigmoid\": \n",
    "                    dadz = deriv_sigmoid(self.activations_list[::-1][i])\n",
    "                cumulative_partials = dadz*np.dot(dzda, cumulative_partials)\n",
    "\n",
    "            dzdw = self.activations_list[::-1][i+1] # element l-1 in the NN standard notation, but because the list in inverted, its index is i+1\n",
    "            dzdb = 1\n",
    "\n",
    "            transp_cumulative_partials = np.transpose(cumulative_partials.reshape(-1,1))\n",
    "\n",
    "            gradient_w = np.dot(dzdw.reshape(-1,1), transp_cumulative_partials)\n",
    "            gradient_b = dzdb*cumulative_partials\n",
    "            \n",
    "            # Append the gradient matrix for one layer\n",
    "            dLdw_list.append(gradient_w)\n",
    "            dLdb_list.append(gradient_b)\n",
    "\n",
    "            # ----- Requirements for the any optimizer -------\n",
    "            self.dLdw_list_acumulated[i] += gradient_w/batch_size\n",
    "            self.dLdb_list_acumulated[i] += gradient_b/batch_size\n",
    "\n",
    "            # ----- Requirements for the Adam optimizer ------- \n",
    "            beta_1 = 0.9\n",
    "            beta_2 = 0.999\n",
    "            if optimizer == \"momentum\" or optimizer == \"Adam\":\n",
    "                self.m_w[i] = (beta_1*self.m_w[i] + (1 - beta_1)*dLdw_list[i])  \n",
    "                self.m_b[i] = (beta_1*self.m_b[i] + (1 - beta_1)*dLdb_list[i])   \n",
    "\n",
    "            if optimizer == \"Adam\":\n",
    "                self.r_w[i] = (beta_2*self.r_w[i] + (1 - beta_2)*dLdw_list[i]**2)\n",
    "                self.r_b[i] = (beta_2*self.r_b[i] + (1 - beta_2)*dLdb_list[i]**2)\n",
    "            \n",
    "\n",
    "    def optimization(self, alpha, optimizer, sample_index):\n",
    "        # This function runs every batch to update the weights and biases with the cumulated derivatives\n",
    "        e = 10e-8\n",
    "        beta_1 = 0.9\n",
    "        beta_2 = 0.999\n",
    "\n",
    "        if optimizer == \"SGD\":\n",
    "            self.weight_list = [(self.weight_list[i] - alpha*self.dLdw_list_acumulated[::-1][i]) for i in range(len(self.weight_list))] \n",
    "            self.bias_list =   [(self.bias_list[i]   - alpha*self.dLdb_list_acumulated[::-1][i]) for i in range(len(self.bias_list))]  \n",
    "\n",
    "        if optimizer == \"momentum\":\n",
    "            for i in range(len(self.weight_list)):\n",
    "                self.weight_list[i] -= alpha*self.m_w[::-1][i] \n",
    "                self.bias_list[i] -= alpha*self.m_b[::-1][i]   \n",
    "        \n",
    "        if optimizer == \"Adam\":\n",
    "            for i in range(len(self.weight_list)):\n",
    "                m_w_corrected = self.m_w[::-1][i] / (1-beta_1**(sample_index))\n",
    "                r_w_corrected = self.r_w[::-1][i] / (1-beta_2**(sample_index))\n",
    "                m_b_corrected = self.m_b[::-1][i] / (1-beta_1**(sample_index))\n",
    "                r_b_corrected = self.r_b[::-1][i] / (1-beta_2**(sample_index))\n",
    "\n",
    "                self.weight_list[i] -= alpha* m_w_corrected / (e + np.sqrt(r_w_corrected))\n",
    "                self.bias_list[i] -= alpha*  m_b_corrected / (e + np.sqrt(r_b_corrected))\n",
    "\n",
    " \n",
    "        \n",
    "        \n",
    "    \n"
   ]
  },
  {
   "cell_type": "markdown",
   "metadata": {},
   "source": [
    "# Training process"
   ]
  },
  {
   "cell_type": "markdown",
   "metadata": {},
   "source": [
    "Model and parameters definition"
   ]
  },
  {
   "cell_type": "code",
   "execution_count": 81,
   "metadata": {},
   "outputs": [
    {
     "name": "stdout",
     "output_type": "stream",
     "text": [
      " ----- Neural net layout -----\n",
      "    Input with 784 valeus\n",
      "    Hidden layer 1 with 16 nodes\n",
      "    Output with 10 nodes\n",
      " -----------------------------\n"
     ]
    }
   ],
   "source": [
    "model = NN([784, 16, 10])\n",
    "\n",
    "batch_size = 20\n",
    "epochs = 6\n",
    "lr = 0.01\n",
    "activation_func = \"sigmoid\"\n",
    "optimizer = \"Adam\"\n",
    "graph_samples = 80\n",
    "\n",
    "save_report_lag = True"
   ]
  },
  {
   "cell_type": "markdown",
   "metadata": {},
   "source": [
    "Training loop"
   ]
  },
  {
   "cell_type": "code",
   "execution_count": 82,
   "metadata": {},
   "outputs": [
    {
     "name": "stdout",
     "output_type": "stream",
     "text": [
      "Epoch 1/6,   epoch loss: 0.018606,   epoch time: 34.7s\n",
      "Epoch 2/6,   epoch loss: 0.0090627,   epoch time: 36.4s\n",
      "Epoch 3/6,   epoch loss: 0.0074526,   epoch time: 35.3s\n",
      "Epoch 4/6,   epoch loss: 0.0066097,   epoch time: 36.9s\n",
      "Epoch 5/6,   epoch loss: 0.0060799,   epoch time: 35.7s\n",
      "Epoch 6/6,   epoch loss: 0.0057091,   epoch time: 37.8s\n"
     ]
    },
    {
     "data": {
      "image/png": "[encoded data removed]",
      "text/plain": [
       "<Figure size 640x480 with 1 Axes>"
      ]
     },
     "metadata": {},
     "output_type": "display_data"
    }
   ],
   "source": [
    "\n",
    "sample_idx = 1\n",
    "loss_list = []\n",
    "training_report = []\n",
    "loss_append_flag = epochs*len(x_train)//graph_samples\n",
    "for i in range(epochs):\n",
    "    loss = 0\n",
    "    loss_cumulated = 0\n",
    "    loss_cumulated_epoch = 0\n",
    "    # shuffle the training data for each epochs\n",
    "    x_train_shuffled, y_train_shuffled = shuffle(x_train, y_train)\n",
    "    epoch_time = time.time()\n",
    "    for j in np.arange(batch_size, len(y_train)+1, batch_size):\n",
    "        batch = zip(x_train[j-batch_size : j], y_train[j-batch_size : j])\n",
    "\n",
    "        for x, y in batch:\n",
    "            a0 = x.ravel()\n",
    "            output = model.forward(a0, activation_func)\n",
    "\n",
    "            target = np.zeros(10)\n",
    "            target[y] = 1\n",
    "\n",
    "            sample_idx +=1\n",
    "            model.backpropagation(target, batch_size, activation_func, optimizer)\n",
    "\n",
    "            loss_raw = 0.5*(target - output)**2\n",
    "            loss = sum(loss_raw)/len(loss_raw)\n",
    "            loss_cumulated_epoch += loss\n",
    "            loss_cumulated += loss\n",
    "            \n",
    "            if sample_idx % loss_append_flag == 0:\n",
    "                loss_list.append(loss_cumulated/graph_samples)\n",
    "                loss_cumulated = 0\n",
    "        \n",
    "\n",
    "        model.optimization(lr, optimizer, sample_idx)\n",
    "        model.reset_cumulated_gradients()\n",
    "\n",
    "        \n",
    "    epoch_loss = loss_cumulated_epoch/len(y_train)\n",
    "    epoch_timespam = time.time() - epoch_time\n",
    "    epoch_data = f\"Epoch {(i+1)}/{epochs},   epoch loss: {epoch_loss:.5f},   epoch time: {epoch_timespam:.1f}s\"\n",
    "    print(epoch_data)\n",
    "    training_report.append(epoch_data)\n",
    "model.reset_cumulated_adam_factors()\n",
    "\n",
    "\n",
    "# ------------- Plot the loss graph ----------------\n",
    "y_axis = loss_list\n",
    "x_axis = [i for i in range(len(y_axis))]\n",
    "plt.plot(x_axis, y_axis, )\n",
    "plt.grid()\n",
    "plt.show()\n",
    "\n",
    "# ---------------- Getting accuracy ----------------\n",
    "f = 0\n",
    "v = 0\n",
    "for i in range(x_test.shape[0]):\n",
    "    x = x_test[i].ravel()\n",
    "    y = y_test[i]\n",
    "    output = model.forward(x, activation_func)\n",
    "    # bla.reset()\n",
    "    predicted = np.argmax(output)\n",
    "    if predicted == y:\n",
    "        v +=1\n",
    "    else:\n",
    "        f+=1\n",
    "acc = v / (v+f) * 100\n",
    "print(f\"The model correctly predicted {v} out of {v+f} test cases, achieving an accuracy of {acc:.2f}%.\")\n",
    "\n",
    "# ------------ Save the training report ------------\n",
    "save_report(save_report_lag, model,epochs, batch_size, lr, activation_func, optimizer, training_report, acc)\n",
    "\n"
   ]
  },
  {
   "cell_type": "markdown",
   "metadata": {},
   "source": [
    "# Evaluation process"
   ]
  },
  {
   "cell_type": "code",
   "execution_count": 60,
   "metadata": {},
   "outputs": [
    {
     "name": "stdout",
     "output_type": "stream",
     "text": [
      " ----- Neural net layout -----\n",
      "    Input with 784 valeus\n",
      "    Hidden layer 1 with 16 nodes\n",
      "    Output with 10 nodes\n",
      " -----------------------------\n"
     ]
    }
   ],
   "source": [
    "model = NN([784, 16, 10])"
   ]
  },
  {
   "cell_type": "code",
   "execution_count": 65,
   "metadata": {},
   "outputs": [],
   "source": [
    "load_params = False\n",
    "\n",
    "if load_params == True:\n",
    "    loaded_weights = np.load('saved_weights.npy', allow_pickle=True)\n",
    "    loaded_biases = np.load('saved_biases.npy', allow_pickle=True)\n",
    "\n",
    "    model.weight_list = loaded_weights\n",
    "    model.bias_list = loaded_biases\n",
    "\n"
   ]
  },
  {
   "cell_type": "code",
   "execution_count": 62,
   "metadata": {},
   "outputs": [
    {
     "name": "stdout",
     "output_type": "stream",
     "text": [
      "The model correctly predicted 9034 out of 10000 test cases, achieving an accuracy of 90.34%.\n"
     ]
    }
   ],
   "source": [
    "f = 0\n",
    "v = 0\n",
    "for i in range(x_test.shape[0]):\n",
    "    x = x_test[i].ravel()\n",
    "    y = y_test[i]\n",
    "    output = model.forward(x, activation_func)\n",
    "    # bla.reset()\n",
    "    predicted = np.argmax(output)\n",
    "    if predicted == y:\n",
    "        v +=1\n",
    "    else:\n",
    "        f+=1\n",
    "print(f\"The model correctly predicted {v} out of {v+f} test cases, achieving an accuracy of {v / (v+f) * 100:.2f}%.\")"
   ]
  },
  {
   "cell_type": "code",
   "execution_count": 45,
   "metadata": {},
   "outputs": [
    {
     "name": "stderr",
     "output_type": "stream",
     "text": [
      "/home/marco/miniconda3/envs/FaceID_2-env/lib/python3.10/site-packages/numpy/lib/npyio.py:501: VisibleDeprecationWarning: Creating an ndarray from ragged nested sequences (which is a list-or-tuple of lists-or-tuples-or ndarrays with different lengths or shapes) is deprecated. If you meant to do this, you must specify 'dtype=object' when creating the ndarray.\n",
      "  arr = np.asanyarray(arr)\n"
     ]
    }
   ],
   "source": [
    "save_params = False\n",
    "\n",
    "if save_params == True:\n",
    "    np.save('saved_weights.npy', model.weight_list)\n",
    "    np.save('saved_biases.npy', model.bias_list)"
   ]
  },
  {
   "cell_type": "markdown",
   "metadata": {},
   "source": [
    "# Visualization"
   ]
  },
  {
   "cell_type": "markdown",
   "metadata": {},
   "source": [
    "### Loss visualization"
   ]
  },
  {
   "cell_type": "code",
   "execution_count": 33,
   "metadata": {},
   "outputs": [
    {
     "data": {
      "image/png": "[encoded data removed]",
      "text/plain": [
       "<Figure size 640x480 with 1 Axes>"
      ]
     },
     "metadata": {},
     "output_type": "display_data"
    }
   ],
   "source": [
    "y_axis = loss_list\n",
    "x_axis = [i for i in range(len(y_axis))]\n",
    "plt.plot(x_axis, y_axis, )\n",
    "plt.grid()\n",
    "plt.show()"
   ]
  },
  {
   "cell_type": "markdown",
   "metadata": {},
   "source": [
    "### Weights distribution"
   ]
  },
  {
   "cell_type": "code",
   "execution_count": 53,
   "metadata": {},
   "outputs": [
    {
     "data": {
      "image/png": "[encoded data removed]",
      "text/plain": [
       "<Figure size 640x480 with 1 Axes>"
      ]
     },
     "metadata": {},
     "output_type": "display_data"
    },
    {
     "data": {
      "image/png": "[encoded data removed]",
      "text/plain": [
       "<Figure size 640x480 with 1 Axes>"
      ]
     },
     "metadata": {},
     "output_type": "display_data"
    }
   ],
   "source": [
    "for i, layer_weights in enumerate(model.weight_list):\n",
    "    plt.figure()\n",
    "    plt.hist(layer_weights.flatten(), bins=50)\n",
    "    plt.title(f'Layer {i+1} Weights Distribution')\n",
    "    plt.xlabel('Weight Value')\n",
    "    plt.ylabel('Frequency')\n",
    "    plt.show()"
   ]
  },
  {
   "cell_type": "markdown",
   "metadata": {},
   "source": []
  },
  {
   "cell_type": "code",
   "execution_count": null,
   "metadata": {},
   "outputs": [],
   "source": []
  }
 ],
 "metadata": {
  "kernelspec": {
   "display_name": "Python 3.10.4 ('FaceID-env')",
   "language": "python",
   "name": "python3"
  },
  "language_info": {
   "codemirror_mode": {
    "name": "ipython",
    "version": 3
   },
   "file_extension": ".py",
   "mimetype": "text/x-python",
   "name": "python",
   "nbconvert_exporter": "python",
   "pygments_lexer": "ipython3",
   "version": "3.10.4"
  },
  "orig_nbformat": 4,
  "vscode": {
   "interpreter": {
    "hash": "5c06c2559e217e8874a744f43ae68537e6d01b437cce87eea63233801cf571f2"
   }
  }
 },
 "nbformat": 4,
 "nbformat_minor": 2
}
