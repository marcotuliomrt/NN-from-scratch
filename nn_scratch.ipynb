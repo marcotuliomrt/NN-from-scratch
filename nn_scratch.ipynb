{
 "cells": [
  {
   "cell_type": "markdown",
   "metadata": {},
   "source": [
    "### Importing dependencies"
   ]
  },
  {
   "cell_type": "code",
   "execution_count": 6,
   "metadata": {},
   "outputs": [],
   "source": [
    "import numpy as np\n",
    "import matplotlib.pyplot as plt\n",
    "\n",
    "# Dataset Dependencies\n",
    "from tensorflow.keras.datasets import mnist\n",
    "from sklearn.utils import shuffle\n",
    "\n"
   ]
  },
  {
   "cell_type": "markdown",
   "metadata": {},
   "source": [
    "### Loading Trainset and Testset"
   ]
  },
  {
   "cell_type": "code",
   "execution_count": 7,
   "metadata": {},
   "outputs": [],
   "source": [
    "(x_train, y_train), (x_test, y_test) = mnist.load_data()\n",
    "\n",
    "# Normalize the pixel values to the range [0, 1]\n",
    "x_train, x_test = x_train / 255.0, x_test / 255.0"
   ]
  },
  {
   "cell_type": "markdown",
   "metadata": {},
   "source": [
    "# Neural network structure"
   ]
  },
  {
   "cell_type": "markdown",
   "metadata": {},
   "source": [
    "### Auxiliar functions"
   ]
  },
  {
   "cell_type": "code",
   "execution_count": 8,
   "metadata": {},
   "outputs": [],
   "source": [
    "def sigmoid(x):\n",
    "    return 1/(1+np.exp(-x))\n",
    "\n",
    "def loss_func(label, pred):\n",
    "    return 0.5*(label - pred)**2\n"
   ]
  },
  {
   "cell_type": "markdown",
   "metadata": {},
   "source": [
    "### Neural network class"
   ]
  },
  {
   "cell_type": "code",
   "execution_count": 12,
   "metadata": {},
   "outputs": [],
   "source": [
    "class NN():\n",
    "    def __init__(self, params):\n",
    "        self.params = params # format: [input_size, a1_size, a1_size, ...  output_size]\n",
    "\n",
    "        # For all the lists, each element is a matrix of values for 1 layer\n",
    "\n",
    "        # This list holds the activtions for just 1 pass (the forward calculates and resets it everytime it executes)\n",
    "        self.activations_list = []  # [input_vector , a1_vector, a2_vector, ... output_vector]\n",
    "        # This lists holds the weiths and biases until they are updated by the optimization() method\n",
    "        self.weight_list = [np.random.normal(size=[params[i], params[i+1]], loc = 0.0, scale = 1.0) for i in range(len(params)-1)]\n",
    "        self.bias_list = [np.random.normal(size=[params[i+1],], loc = 0.0, scale = 1.0) for i in range(len(params)-1)]\n",
    "        # This list hold the cumulated weights and biases of the whole net for 1 batch\n",
    "        self.dLdw_list_acumulated =  [0]*(len(params)-1) \n",
    "        self.dLdb_list_acumulated =  [0]*(len(params)-1) \n",
    "        # This lists hold the cumulated momentums factor (for Adam opttimizer) for the whole\n",
    "        self.m_b = [0]*(len(params)-1) \n",
    "        self.m_w = [0]*(len(params)-1) \n",
    "        # This lists hold the cumulated RMSProp factors (for adam optimizer)\n",
    "        self.r_w = [0]*(len(params)-1) \n",
    "        self.r_b = [0]*(len(params)-1) \n",
    "\n",
    "        print(\" ----- Neural net layout -----\")\n",
    "        print(f\"    Input with {params[0]} valeus\")\n",
    "        for i in range(len(self.params)-2):\n",
    "            print(f\"    Hidden layer {i+1} with {params[i+1]} nodes\")\n",
    "        print(f\"    Output with {params[-1]} nodes\")\n",
    "        print(\" -----------------------------\")\n",
    "\n",
    "    def reset_cumulated_gradients(self):\n",
    "        self.dLdw_list_acumulated =  [0]*(len(self.params)-1) # initial value\n",
    "        self.dLdb_list_acumulated =  [0]*(len(self.params)-1) # initial value\n",
    "\n",
    "    def reset_cumulated_adam_factors(self):\n",
    "        self.m_b = [0]*(len(self.params)-1) \n",
    "        self.r_w = [0]*(len(self.params)-1) \n",
    "        self.r_b = [0]*(len(self.params)-1) \n",
    "        self.m_w = [0]*(len(self.params)-1) \n",
    "\n",
    "    def forward(self, input):\n",
    "        self.activations_list = [input] # Creates a list for the activation with the input vector as it is the a0 layers\n",
    "        for i in range(len(self.params)-1): # Adds the other layers (n-1)layers because the input has been added already\n",
    "            zi = np.dot(np.transpose(self.weight_list[i]), self.activations_list[i]) + self.bias_list[i]\n",
    "            ai = sigmoid(zi)\n",
    "            self.activations_list.append(ai)\n",
    "        return ai\n",
    "\n",
    "    def backpropagation(self, label, batch_size):\n",
    "        # This function runs for every sample and the for iterates over every layer to cover the whlole nertowek\n",
    "\n",
    "        # Each elemnt of this list is a matrix of weight for one layer OBS: the values are gonna be added from the last to the first item\n",
    "        # The list represents the weights of the whole net for 1 sample\n",
    "        dLdw_list = [] \n",
    "        dLdb_list = [] \n",
    "\n",
    "        for i in range(len(self.params)-1): # iters over all hidden layers and the output    ->   len(params)-1 \n",
    "            if i == 0: # If the first calculation -> calculates dLdout\n",
    "                output = self.activations_list[::-1][i]\n",
    "                dLdout = (output - label)\n",
    "\n",
    "                dadz = self.activations_list[::-1][i]*(1 - self.activations_list[::-1][i])\n",
    "                cumulative_partials = dadz*dLdout # initial value\n",
    "            else: # For all the other derivatives exept the last one\n",
    "                dzda = self.weight_list[::-1][i-1]\n",
    "\n",
    "                dadz = self.activations_list[::-1][i]*(1 - self.activations_list[::-1][i])\n",
    "                cumulative_partials = dadz*np.dot(dzda, cumulative_partials)\n",
    "\n",
    "            dzdw = self.activations_list[::-1][i+1] # element l-1 in the NN standard notation, but because the list in inverted, its index is i+1\n",
    "            dzdb = 1\n",
    "\n",
    "            transp_cumulative_partials = np.transpose(cumulative_partials.reshape(-1,1))\n",
    "\n",
    "            gradient_w = np.dot(dzdw.reshape(-1,1), transp_cumulative_partials)\n",
    "            gradient_b = dzdb*cumulative_partials\n",
    "            \n",
    "            # Append the gradient matrix for one layer\n",
    "            dLdw_list.append(gradient_w)\n",
    "            dLdb_list.append(gradient_b)\n",
    "\n",
    "            self.dLdw_list_acumulated[i] += gradient_w/batch_size\n",
    "            self.dLdb_list_acumulated[i] += gradient_b/batch_size\n",
    "\n",
    "            # ----- Requirements for the Adam optimizer -------\n",
    "            \n",
    "            gama = 0.9\n",
    "            beta = 0.999\n",
    "\n",
    "            self.m_w[i] = gama*self.m_w[i] + (1 - gama)*self.dLdw_list_acumulated[::-1][i]\n",
    "            self.m_b[i] = gama*self.m_b[i] + (1 - gama)*self.dLdb_list_acumulated[::-1][i]\n",
    "\n",
    "            self.r_w[i] = beta*self.r_w[i] + (1 - beta)*self.dLdw_list_acumulated[::-1][i]**2\n",
    "            self.r_b[i] = beta*self.r_b[i] + (1 - beta)*self.dLdb_list_acumulated[::-1][i]**2\n",
    "\n",
    "\n",
    "    def optimization(self, alpha):\n",
    "        # This function runs every batch\n",
    "        e = 10e-8\n",
    "        for i in range(len(self.weight_list)):\n",
    "            \n",
    "            self.weight_list[i] -= alpha*self.m_w[i]/(e + np.sqrt(self.r_w[i]))\n",
    "            self.bias_list[i] -= alpha*self.m_b[i]/(e + np.sqrt(self.r_b[i]))\n",
    "\n",
    " \n",
    "        \n",
    "        \n",
    "    \n"
   ]
  },
  {
   "cell_type": "markdown",
   "metadata": {},
   "source": [
    "### Training process"
   ]
  },
  {
   "cell_type": "code",
   "execution_count": 13,
   "metadata": {},
   "outputs": [
    {
     "name": "stdout",
     "output_type": "stream",
     "text": [
      " ----- Neural net layout -----\n",
      "    Input with 784 valeus\n",
      "    Hidden layer 1 with 16 nodes\n",
      "    Output with 10 nodes\n",
      " -----------------------------\n"
     ]
    }
   ],
   "source": [
    "bla = NN([784, 16, 10])"
   ]
  },
  {
   "cell_type": "code",
   "execution_count": 14,
   "metadata": {},
   "outputs": [],
   "source": [
    "x = x_train[0]\n",
    "y = y_train[0]"
   ]
  },
  {
   "cell_type": "code",
   "execution_count": 15,
   "metadata": {},
   "outputs": [],
   "source": [
    "a0 = x.ravel()\n",
    "output = bla.forward(a0)\n"
   ]
  },
  {
   "cell_type": "code",
   "execution_count": 16,
   "metadata": {},
   "outputs": [],
   "source": [
    "\n",
    "target = np.zeros(10)\n",
    "target[y] = 1\n",
    "\n",
    "\n",
    "bla.backpropagation(target, 20)\n",
    "\n"
   ]
  },
  {
   "cell_type": "code",
   "execution_count": 17,
   "metadata": {},
   "outputs": [],
   "source": [
    "bla.optimization(0.5)\n"
   ]
  },
  {
   "cell_type": "code",
   "execution_count": 21,
   "metadata": {},
   "outputs": [
    {
     "data": {
      "text/plain": [
       "array([ 0.00038268,  0.00032137,  0.00021971,  0.00036599,  0.00073638,\n",
       "       -0.0002484 ,  0.0007331 ,  0.00065667,  0.00056492,  0.00071501])"
      ]
     },
     "execution_count": 21,
     "metadata": {},
     "output_type": "execute_result"
    }
   ],
   "source": [
    "bla.m_b[1]"
   ]
  },
  {
   "cell_type": "code",
   "execution_count": null,
   "metadata": {},
   "outputs": [],
   "source": [
    "bla.reset_cumulated_gradients()"
   ]
  },
  {
   "cell_type": "code",
   "execution_count": null,
   "metadata": {},
   "outputs": [],
   "source": []
  },
  {
   "cell_type": "code",
   "execution_count": 22,
   "metadata": {},
   "outputs": [
    {
     "name": "stdout",
     "output_type": "stream",
     "text": [
      " ----- Neural net layout -----\n",
      "    Input with 784 valeus\n",
      "    Hidden layer 1 with 16 nodes\n",
      "    Output with 10 nodes\n",
      " -----------------------------\n",
      "Epoch 1/5,  loss: 0.09096736491384463\n",
      "Epoch 2/5,  loss: 0.09096500000003874\n",
      "Epoch 3/5,  loss: 0.09096500000003874\n"
     ]
    },
    {
     "ename": "KeyboardInterrupt",
     "evalue": "",
     "output_type": "error",
     "traceback": [
      "\u001b[0;31m---------------------------------------------------------------------------\u001b[0m",
      "\u001b[0;31mKeyboardInterrupt\u001b[0m                         Traceback (most recent call last)",
      "\u001b[1;32m/home/marco/Projects/nn from scratch/NN-from-scratch/nn_scratch.ipynb Cell 19\u001b[0m line \u001b[0;36m2\n\u001b[1;32m     <a href='vscode-notebook-cell:/home/marco/Projects/nn%20from%20scratch/NN-from-scratch/nn_scratch.ipynb#X41sZmlsZQ%3D%3D?line=17'>18</a>\u001b[0m \u001b[39mfor\u001b[39;00m x, y \u001b[39min\u001b[39;00m batch:\n\u001b[1;32m     <a href='vscode-notebook-cell:/home/marco/Projects/nn%20from%20scratch/NN-from-scratch/nn_scratch.ipynb#X41sZmlsZQ%3D%3D?line=18'>19</a>\u001b[0m     a0 \u001b[39m=\u001b[39m x\u001b[39m.\u001b[39mravel()\n\u001b[0;32m---> <a href='vscode-notebook-cell:/home/marco/Projects/nn%20from%20scratch/NN-from-scratch/nn_scratch.ipynb#X41sZmlsZQ%3D%3D?line=19'>20</a>\u001b[0m     output \u001b[39m=\u001b[39m bla\u001b[39m.\u001b[39;49mforward(a0)\n\u001b[1;32m     <a href='vscode-notebook-cell:/home/marco/Projects/nn%20from%20scratch/NN-from-scratch/nn_scratch.ipynb#X41sZmlsZQ%3D%3D?line=21'>22</a>\u001b[0m     target \u001b[39m=\u001b[39m np\u001b[39m.\u001b[39mzeros(\u001b[39m10\u001b[39m)\n\u001b[1;32m     <a href='vscode-notebook-cell:/home/marco/Projects/nn%20from%20scratch/NN-from-scratch/nn_scratch.ipynb#X41sZmlsZQ%3D%3D?line=22'>23</a>\u001b[0m     target[y] \u001b[39m=\u001b[39m \u001b[39m1\u001b[39m\n",
      "\u001b[1;32m/home/marco/Projects/nn from scratch/NN-from-scratch/nn_scratch.ipynb Cell 19\u001b[0m line \u001b[0;36m4\n\u001b[1;32m     <a href='vscode-notebook-cell:/home/marco/Projects/nn%20from%20scratch/NN-from-scratch/nn_scratch.ipynb#X41sZmlsZQ%3D%3D?line=39'>40</a>\u001b[0m \u001b[39mself\u001b[39m\u001b[39m.\u001b[39mactivations_list \u001b[39m=\u001b[39m [\u001b[39minput\u001b[39m] \u001b[39m# Creates a list for the activation with the input vector as it is the a0 layers\u001b[39;00m\n\u001b[1;32m     <a href='vscode-notebook-cell:/home/marco/Projects/nn%20from%20scratch/NN-from-scratch/nn_scratch.ipynb#X41sZmlsZQ%3D%3D?line=40'>41</a>\u001b[0m \u001b[39mfor\u001b[39;00m i \u001b[39min\u001b[39;00m \u001b[39mrange\u001b[39m(\u001b[39mlen\u001b[39m(\u001b[39mself\u001b[39m\u001b[39m.\u001b[39mparams)\u001b[39m-\u001b[39m\u001b[39m1\u001b[39m): \u001b[39m# Adds the other layers (n-1)layers because the input has been added already\u001b[39;00m\n\u001b[0;32m---> <a href='vscode-notebook-cell:/home/marco/Projects/nn%20from%20scratch/NN-from-scratch/nn_scratch.ipynb#X41sZmlsZQ%3D%3D?line=41'>42</a>\u001b[0m     zi \u001b[39m=\u001b[39m np\u001b[39m.\u001b[39;49mdot(np\u001b[39m.\u001b[39;49mtranspose(\u001b[39mself\u001b[39;49m\u001b[39m.\u001b[39;49mweight_list[i]), \u001b[39mself\u001b[39;49m\u001b[39m.\u001b[39;49mactivations_list[i]) \u001b[39m+\u001b[39m \u001b[39mself\u001b[39m\u001b[39m.\u001b[39mbias_list[i]\n\u001b[1;32m     <a href='vscode-notebook-cell:/home/marco/Projects/nn%20from%20scratch/NN-from-scratch/nn_scratch.ipynb#X41sZmlsZQ%3D%3D?line=42'>43</a>\u001b[0m     ai \u001b[39m=\u001b[39m sigmoid(zi)\n\u001b[1;32m     <a href='vscode-notebook-cell:/home/marco/Projects/nn%20from%20scratch/NN-from-scratch/nn_scratch.ipynb#X41sZmlsZQ%3D%3D?line=43'>44</a>\u001b[0m     \u001b[39mself\u001b[39m\u001b[39m.\u001b[39mactivations_list\u001b[39m.\u001b[39mappend(ai)\n",
      "File \u001b[0;32m<__array_function__ internals>:180\u001b[0m, in \u001b[0;36mdot\u001b[0;34m(*args, **kwargs)\u001b[0m\n",
      "\u001b[0;31mKeyboardInterrupt\u001b[0m: "
     ]
    }
   ],
   "source": [
    "bla = NN([784, 16, 10])\n",
    "\n",
    "batch_size = 1\n",
    "epoch = 5\n",
    "lr = 0.5\n",
    "\n",
    "\n",
    "loss_list = []\n",
    "for i in range(epoch):\n",
    "    loss = 0\n",
    "    loss_cumulated = 0\n",
    "    # shuffle the training data for each epoch\n",
    "    x_train_shuffled, y_train_shuffled = shuffle(x_train, y_train)\n",
    "\n",
    "    for j in np.arange(batch_size, len(y_train)+1, batch_size):\n",
    "        batch = zip(x_train[j-batch_size : j], y_train[j-batch_size : j])\n",
    "\n",
    "        for x, y in batch:\n",
    "            a0 = x.ravel()\n",
    "            output = bla.forward(a0)\n",
    "\n",
    "            target = np.zeros(10)\n",
    "            target[y] = 1\n",
    "\n",
    "            loss = 0.5*(target - output)**2\n",
    "            loss_cumulated += sum(loss)/len(loss)\n",
    "\n",
    "            \n",
    "\n",
    "            bla.backpropagation(target, batch_size)\n",
    "\n",
    "        bla.optimization(lr)\n",
    "        bla.reset_cumulated_gradients()\n",
    "    bla.reset_cumulated_adam_factors()\n",
    "    epoch_loss = loss_cumulated/len(y_train)\n",
    "    loss_list.append(epoch_loss)\n",
    "\n",
    "    print(f\"Epoch {(i+1)}/{epoch},  loss: {epoch_loss}\")\n",
    "\n",
    "    \n",
    "    "
   ]
  },
  {
   "cell_type": "markdown",
   "metadata": {},
   "source": [
    "### Testing process"
   ]
  },
  {
   "cell_type": "code",
   "execution_count": 11,
   "metadata": {},
   "outputs": [
    {
     "name": "stdout",
     "output_type": "stream",
     "text": [
      "The model correctly predicted 9146 out of 10000 test cases, achieving an accuracy of 91.46%.\n"
     ]
    }
   ],
   "source": [
    "f = 0\n",
    "v = 0\n",
    "for i in range(x_test.shape[0]):\n",
    "    x = x_test[i].ravel()\n",
    "    y = y_test[i]\n",
    "    output = bla.forward(x)\n",
    "    # bla.reset()\n",
    "    predicted = np.argmax(output)\n",
    "    if predicted == y:\n",
    "        v +=1\n",
    "    else:\n",
    "        f+=1\n",
    "print(f\"The model correctly predicted {v} out of {v+f} test cases, achieving an accuracy of {v / (v+f) * 100:.2f}%.\")"
   ]
  },
  {
   "cell_type": "markdown",
   "metadata": {},
   "source": [
    "# Visualization"
   ]
  },
  {
   "cell_type": "markdown",
   "metadata": {},
   "source": [
    "### Loss visualization"
   ]
  },
  {
   "cell_type": "code",
   "execution_count": 7,
   "metadata": {},
   "outputs": [
    {
     "data": {
      "image/png": "[encoded data removed]",
      "text/plain": [
       "<Figure size 640x480 with 1 Axes>"
      ]
     },
     "metadata": {},
     "output_type": "display_data"
    }
   ],
   "source": [
    "y_axis = loss_list\n",
    "x_axis = [i for i in range(len(y_axis))]\n",
    "plt.plot(x_axis, y_axis, )\n",
    "plt.grid()\n",
    "plt.show()"
   ]
  },
  {
   "cell_type": "markdown",
   "metadata": {},
   "source": [
    "### Weights distribution"
   ]
  },
  {
   "cell_type": "code",
   "execution_count": 63,
   "metadata": {},
   "outputs": [
    {
     "data": {
      "image/png": "[encoded data removed]",
      "text/plain": [
       "<Figure size 640x480 with 1 Axes>"
      ]
     },
     "metadata": {},
     "output_type": "display_data"
    },
    {
     "data": {
      "image/png": "[encoded data removed]",
      "text/plain": [
       "<Figure size 640x480 with 1 Axes>"
      ]
     },
     "metadata": {},
     "output_type": "display_data"
    }
   ],
   "source": [
    "for i, layer_weights in enumerate(g.weight_list):\n",
    "    plt.figure()\n",
    "    plt.hist(layer_weights.flatten(), bins=50)\n",
    "    plt.title(f'Layer {i+1} Weights Distribution')\n",
    "    plt.xlabel('Weight Value')\n",
    "    plt.ylabel('Frequency')\n",
    "    plt.show()"
   ]
  },
  {
   "cell_type": "markdown",
   "metadata": {},
   "source": []
  },
  {
   "cell_type": "code",
   "execution_count": null,
   "metadata": {},
   "outputs": [],
   "source": []
  }
 ],
 "metadata": {
  "kernelspec": {
   "display_name": "Python 3.10.4 ('FaceID-env')",
   "language": "python",
   "name": "python3"
  },
  "language_info": {
   "codemirror_mode": {
    "name": "ipython",
    "version": 3
   },
   "file_extension": ".py",
   "mimetype": "text/x-python",
   "name": "python",
   "nbconvert_exporter": "python",
   "pygments_lexer": "ipython3",
   "version": "3.10.4"
  },
  "orig_nbformat": 4,
  "vscode": {
   "interpreter": {
    "hash": "5c06c2559e217e8874a744f43ae68537e6d01b437cce87eea63233801cf571f2"
   }
  }
 },
 "nbformat": 4,
 "nbformat_minor": 2
}
